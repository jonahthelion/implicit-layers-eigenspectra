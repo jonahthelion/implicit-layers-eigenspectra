{
 "cells": [
  {
   "cell_type": "code",
   "execution_count": 1,
   "id": "13f75366",
   "metadata": {},
   "outputs": [],
   "source": [
    "import functools\n",
    "import os\n",
    "import pickle\n",
    "import time\n",
    "from argparse import Namespace\n",
    "import sys\n",
    "\n",
    "import haiku as hk\n",
    "import jax\n",
    "import jax.numpy as jnp\n",
    "import numpy as np\n",
    "import optax\n",
    "import tensorflow.compat.v2 as tf\n",
    "import matplotlib.pyplot as plt\n",
    "\n",
    "from absl import logging\n",
    "logging.set_verbosity(logging.INFO)\n",
    "\n",
    "\n",
    "sys.path.append('./deq-jax')\n",
    "from src.mnist_fcn import mnist_dataset\n",
    "from src.mnist_fcn.mnist_train import build_forward_fn, ce_loss_fn, Updater, CheckpointingUpdater, accuracy\n",
    "\n",
    "sys.path.append('./spectral-density')\n",
    "import density as density_lib\n",
    "import lanczos as lanczos\n",
    "import hessian_computation as hessian_computation"
   ]
  },
  {
   "cell_type": "markdown",
   "id": "da109917",
   "metadata": {},
   "source": [
    "# Arguments & Setup"
   ]
  },
  {
   "cell_type": "code",
   "execution_count": 2,
   "id": "7ccba88b",
   "metadata": {},
   "outputs": [],
   "source": [
    "FLAGS = Namespace()\n",
    "FLAGS.checkpoint_dir = './ckpt/mnist/'\n",
    "\n",
    "FLAGS.use_deq = True\n",
    "FLAGS.custom_vjp = True\n",
    "FLAGS.max_iter = 15\n",
    "FLAGS.feedfwd_layers = 12\n",
    "FLAGS.d_model = 64\n",
    "\n",
    "FLAGS.batch_size = 256\n",
    "FLAGS.learning_rate = 1e-3\n",
    "FLAGS.grad_clip_value = 0.25\n",
    "\n",
    "LOG_EVERY = 50\n",
    "EVAL_EVERY = 500\n",
    "MAX_STEPS = 10 ** 5"
   ]
  },
  {
   "cell_type": "code",
   "execution_count": 3,
   "id": "3e95474e",
   "metadata": {},
   "outputs": [
    {
     "name": "stderr",
     "output_type": "stream",
     "text": [
      "INFO:absl:Load dataset info from /h/ryoungj/tensorflow_datasets/mnist/3.0.1\n",
      "INFO:absl:Field info.citation from disk and from code do not match. Keeping the one from code.\n",
      "INFO:absl:Reusing dataset mnist (/h/ryoungj/tensorflow_datasets/mnist/3.0.1)\n",
      "INFO:absl:Constructing tf.data.Dataset for split train, from /h/ryoungj/tensorflow_datasets/mnist/3.0.1\n",
      "INFO:absl:Load dataset info from /h/ryoungj/tensorflow_datasets/mnist/3.0.1\n",
      "INFO:absl:Field info.citation from disk and from code do not match. Keeping the one from code.\n",
      "INFO:absl:Reusing dataset mnist (/h/ryoungj/tensorflow_datasets/mnist/3.0.1)\n",
      "INFO:absl:Constructing tf.data.Dataset for split train, from /h/ryoungj/tensorflow_datasets/mnist/3.0.1\n",
      "INFO:absl:Load dataset info from /h/ryoungj/tensorflow_datasets/mnist/3.0.1\n",
      "INFO:absl:Field info.citation from disk and from code do not match. Keeping the one from code.\n",
      "INFO:absl:Reusing dataset mnist (/h/ryoungj/tensorflow_datasets/mnist/3.0.1)\n",
      "INFO:absl:Constructing tf.data.Dataset for split test, from /h/ryoungj/tensorflow_datasets/mnist/3.0.1\n"
     ]
    }
   ],
   "source": [
    "# Create the dataset.\n",
    "train_dataset = mnist_dataset.load(\"train\", is_training=True, batch_size=FLAGS.batch_size)\n",
    "train_dataset_eval = mnist_dataset.load(\"train\", is_training=False, batch_size=10000)\n",
    "test_dataset = mnist_dataset.load(\"test\", is_training=False, batch_size=10000)"
   ]
  },
  {
   "cell_type": "markdown",
   "id": "b46e478f",
   "metadata": {},
   "source": [
    "# Train Model"
   ]
  },
  {
   "cell_type": "code",
   "execution_count": null,
   "id": "b259c064",
   "metadata": {},
   "outputs": [
    {
     "name": "stderr",
     "output_type": "stream",
     "text": [
      "INFO:absl:Initializing parameters...\n",
      "INFO:absl:Loading checkpoint from ./ckpt/mnist/checkpoint_0010000.pkl\n",
      "INFO:absl:# of params: 54986\n",
      "INFO:absl:Starting train loop...\n",
      "INFO:absl:Serializing experiment state to ./ckpt/mnist/checkpoint_0010000.pkl\n",
      "INFO:absl:{'loss': 0.019821245223283768, 'step': 10000.0, 'steps_per_sec': 30.029983416689017}\n"
     ]
    }
   ],
   "source": [
    "# Set up the model, loss, and updater.\n",
    "forward_fn = build_forward_fn(FLAGS.d_model, FLAGS.use_deq, FLAGS.custom_vjp, FLAGS.max_iter, FLAGS.feedfwd_layers)\n",
    "forward_fn = hk.transform(forward_fn)\n",
    "loss_fn = functools.partial(ce_loss_fn, forward_fn.apply)\n",
    "\n",
    "optimizer = optax.chain(\n",
    "    optax.clip_by_global_norm(FLAGS.grad_clip_value),\n",
    "    optax.adam(FLAGS.learning_rate, b1=0.9, b2=0.99))\n",
    "\n",
    "updater = Updater(forward_fn.init, loss_fn, optimizer)\n",
    "updater = CheckpointingUpdater(updater, FLAGS.checkpoint_dir)\n",
    "\n",
    "# Initialize parameters.\n",
    "logging.info('Initializing parameters...')\n",
    "rng = jax.random.PRNGKey(428)\n",
    "data = next(train_dataset)\n",
    "state = updater.init(rng, data)\n",
    "\n",
    "logging.info('# of params: {}'.format(sum([p.size for p in jax.tree_leaves(state['params'])])))\n",
    "\n",
    "logging.info('Starting train loop...')\n",
    "prev_time = time.time()\n",
    "for step in range(MAX_STEPS):\n",
    "    data = next(train_dataset)\n",
    "    state, metrics = updater.update(state, data)\n",
    "    # We use JAX runahead to mask data preprocessing and JAX dispatch overheads.\n",
    "    # Using values from state/metrics too often will block the runahead and can\n",
    "    # cause these overheads to become more prominent.\n",
    "    if step % LOG_EVERY == 0:\n",
    "        steps_per_sec = LOG_EVERY / (time.time() - prev_time)\n",
    "        metrics.update({'steps_per_sec': steps_per_sec})\n",
    "        logging.info({k: float(v) for k, v in metrics.items()})\n",
    "\n",
    "        if step % EVAL_EVERY == 0:\n",
    "            train_accuracy = accuracy(forward_fn.apply, state['params'], state['rng'], next(train_dataset_eval))\n",
    "            test_accuracy = accuracy(forward_fn.apply, state['params'], state['rng'], next(test_dataset))\n",
    "            train_accuracy, test_accuracy = jax.device_get(\n",
    "                (train_accuracy, test_accuracy))\n",
    "            logging.info(f\"[Step {step}] Train / Test accuracy: \"\n",
    "                         f\"{train_accuracy:.3f} / {test_accuracy:.3f}.\")\n",
    "\n",
    "        prev_time = time.time()\n"
   ]
  },
  {
   "cell_type": "markdown",
   "id": "9823f040",
   "metadata": {},
   "source": [
    "# Reload Model"
   ]
  },
  {
   "cell_type": "code",
   "execution_count": 4,
   "id": "14380333",
   "metadata": {},
   "outputs": [],
   "source": [
    "FLAGS.custom_vjp = False\n",
    "FLAGS.batch_size = 256\n",
    "order = 90\n",
    "ckpt_steps = '0000000'"
   ]
  },
  {
   "cell_type": "code",
   "execution_count": 5,
   "id": "37399a0d",
   "metadata": {},
   "outputs": [
    {
     "name": "stderr",
     "output_type": "stream",
     "text": [
      "INFO:absl:Initializing parameters...\n",
      "INFO:absl:Loading checkpoint from ./ckpt/mnist/checkpoint_0000000.pkl\n",
      "INFO:absl:# of params: 54986\n"
     ]
    }
   ],
   "source": [
    "# Set up the model, loss, and updater.\n",
    "forward_fn = build_forward_fn(FLAGS.d_model, FLAGS.use_deq, FLAGS.custom_vjp, FLAGS.max_iter, FLAGS.feedfwd_layers)\n",
    "forward_fn = hk.transform(forward_fn)\n",
    "loss_fn = functools.partial(ce_loss_fn, forward_fn.apply)\n",
    "\n",
    "optimizer = optax.chain(\n",
    "        optax.clip_by_global_norm(FLAGS.grad_clip_value),\n",
    "        optax.adam(FLAGS.learning_rate, b1=0.9, b2=0.99))\n",
    "\n",
    "updater = Updater(forward_fn.init, loss_fn, optimizer)\n",
    "updater = CheckpointingUpdater(updater, FLAGS.checkpoint_dir)\n",
    "\n",
    "# Initialize parameters.\n",
    "logging.info('Initializing parameters...')\n",
    "rng = jax.random.PRNGKey(428)\n",
    "data = next(train_dataset)\n",
    "state = updater.init(rng, data, ckpt_steps=ckpt_steps)\n",
    "\n",
    "params = state['params']\n",
    "logging.info('# of params: {}'.format(sum([p.size for p in jax.tree_leaves(params)])))"
   ]
  },
  {
   "cell_type": "markdown",
   "id": "b55de7cc",
   "metadata": {},
   "source": [
    "# Plot Hessian Spectrum"
   ]
  },
  {
   "cell_type": "code",
   "execution_count": 35,
   "id": "7c1382ed",
   "metadata": {},
   "outputs": [],
   "source": [
    "num_train = 60000\n",
    "num_batches = num_train // FLAGS.batch_size\n",
    "\n",
    "# make a generator that yields 1/60th (1000 examples)\n",
    "batches_list = [next(train_dataset) for i in range(num_batches // 60)]\n",
    "\n",
    "def batches_fn():\n",
    "    for b in batches_list:\n",
    "        yield b\n",
    "        \n",
    "def loss_fn_no_rng(params, data):\n",
    "    return loss_fn(params, rng, data)"
   ]
  },
  {
   "cell_type": "code",
   "execution_count": 36,
   "id": "37ca1ec3",
   "metadata": {},
   "outputs": [],
   "source": [
    "# Hessian-vector product function + Lanczos \n",
    "hvp, unravel, num_params = hessian_computation.get_hvp_fn(loss_fn_no_rng, params, batches_fn)\n",
    "hvp_cl = lambda v: hvp(params, v) / len(batches_list) # Match the API required by lanczos_alg"
   ]
  },
  {
   "cell_type": "code",
   "execution_count": 37,
   "id": "c8628af7",
   "metadata": {},
   "outputs": [
    {
     "name": "stdout",
     "output_type": "stream",
     "text": [
      "num_params: 54986\n"
     ]
    },
    {
     "name": "stderr",
     "output_type": "stream",
     "text": [
      "/scratch/ssd002/home/ryoungj/conda_envs/deq-jax/lib/python3.7/site-packages/ipykernel_launcher.py:2: DeprecationWarning: time.clock has been deprecated in Python 3.3 and will be removed from Python 3.8: use time.perf_counter or time.process_time instead\n",
      "  \n",
      "/scratch/ssd002/home/ryoungj/conda_envs/deq-jax/lib/python3.7/site-packages/ipykernel_launcher.py:4: DeprecationWarning: time.clock has been deprecated in Python 3.3 and will be removed from Python 3.8: use time.perf_counter or time.process_time instead\n",
      "  after removing the cwd from sys.path.\n",
      "/scratch/ssd002/home/ryoungj/conda_envs/deq-jax/lib/python3.7/site-packages/ipykernel_launcher.py:6: DeprecationWarning: time.clock has been deprecated in Python 3.3 and will be removed from Python 3.8: use time.perf_counter or time.process_time instead\n",
      "  \n"
     ]
    },
    {
     "name": "stdout",
     "output_type": "stream",
     "text": [
      "hvp compile time: 37.17534800000004\n",
      "hvp compute time: 0.315084000000013\n"
     ]
    },
    {
     "name": "stderr",
     "output_type": "stream",
     "text": [
      "/scratch/ssd002/home/ryoungj/conda_envs/deq-jax/lib/python3.7/site-packages/ipykernel_launcher.py:8: DeprecationWarning: time.clock has been deprecated in Python 3.3 and will be removed from Python 3.8: use time.perf_counter or time.process_time instead\n",
      "  \n"
     ]
    }
   ],
   "source": [
    "print(\"num_params: {}\".format(num_params))\n",
    "start = time.clock()\n",
    "hvp_cl(np.ones(num_params)) # first call of a jitted function compiles it\n",
    "end = time.clock()\n",
    "print(\"hvp compile time: {}\".format(end-start))\n",
    "start = time.clock()\n",
    "hvp_cl(2*np.ones(num_params)) # second+ call will be much faster\n",
    "end = time.clock()\n",
    "print(\"hvp compute time: {}\".format(end-start))"
   ]
  },
  {
   "cell_type": "code",
   "execution_count": 38,
   "id": "6a9abae3",
   "metadata": {
    "scrolled": true
   },
   "outputs": [
    {
     "name": "stderr",
     "output_type": "stream",
     "text": [
      "/scratch/ssd002/home/ryoungj/conda_envs/deq-jax/lib/python3.7/site-packages/ipykernel_launcher.py:2: DeprecationWarning: time.clock has been deprecated in Python 3.3 and will be removed from Python 3.8: use time.perf_counter or time.process_time instead\n",
      "  \n",
      "/scratch/ssd002/home/ryoungj/conda_envs/deq-jax/lib/python3.7/site-packages/ipykernel_launcher.py:4: DeprecationWarning: time.clock has been deprecated in Python 3.3 and will be removed from Python 3.8: use time.perf_counter or time.process_time instead\n",
      "  after removing the cwd from sys.path.\n"
     ]
    },
    {
     "name": "stdout",
     "output_type": "stream",
     "text": [
      "Lanczos time: 44.380889999999965\n"
     ]
    }
   ],
   "source": [
    "rng, split = jax.random.split(rng)\n",
    "start = time.clock()\n",
    "tridiag, vecs = lanczos.lanczos_alg(hvp_cl, num_params, order, split)\n",
    "end = time.clock()\n",
    "print(\"Lanczos time: {}\".format(end-start)) # this should be ~order * hvp compute time\n",
    "density, grids = density_lib.tridiag_to_density([tridiag], grid_len=10000, sigma_squared=1e-5)"
   ]
  },
  {
   "cell_type": "code",
   "execution_count": 39,
   "id": "19a54e68",
   "metadata": {},
   "outputs": [],
   "source": [
    "def plot(grids, density, label=None):\n",
    "    plt.semilogy(grids, density, label=label)\n",
    "    plt.ylim(1e-10, 1e2)\n",
    "    plt.ylabel(\"Density\")\n",
    "    plt.xlabel(\"Eigenvalue\")\n",
    "    plt.legend()"
   ]
  },
  {
   "cell_type": "code",
   "execution_count": 40,
   "id": "2925e1ab",
   "metadata": {},
   "outputs": [
    {
     "name": "stderr",
     "output_type": "stream",
     "text": [
      "WARNING:matplotlib.legend:No handles with labels found to put in legend.\n"
     ]
    },
    {
     "data": {
      "image/png": "[encoded data removed]",
      "text/plain": [
       "<Figure size 432x288 with 1 Axes>"
      ]
     },
     "metadata": {
      "needs_background": "light"
     },
     "output_type": "display_data"
    }
   ],
   "source": [
    "plot(grids, density)"
   ]
  },
  {
   "cell_type": "code",
   "execution_count": null,
   "id": "c838e18b",
   "metadata": {},
   "outputs": [],
   "source": []
  },
  {
   "cell_type": "code",
   "execution_count": null,
   "id": "a82c7cf7",
   "metadata": {},
   "outputs": [],
   "source": []
  }
 ],
 "metadata": {
  "kernelspec": {
   "display_name": "Python [conda env:deq-jax] *",
   "language": "python",
   "name": "conda-env-deq-jax-py"
  },
  "language_info": {
   "codemirror_mode": {
    "name": "ipython",
    "version": 3
   },
   "file_extension": ".py",
   "mimetype": "text/x-python",
   "name": "python",
   "nbconvert_exporter": "python",
   "pygments_lexer": "ipython3",
   "version": "3.7.10"
  }
 },
 "nbformat": 4,
 "nbformat_minor": 5
}
