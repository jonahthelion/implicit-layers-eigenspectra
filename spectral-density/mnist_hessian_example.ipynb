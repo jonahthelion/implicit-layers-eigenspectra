{
 "cells": [
  {
   "cell_type": "markdown",
   "metadata": {
    "colab_type": "text",
    "id": "cX1_dnkurK14"
   },
   "source": [
    "## JAX Setup\n",
    "Code adapted from [JAX examples](https://github.com/google/jax/blob/master/examples/mnist_classifier.py)."
   ]
  },
  {
   "cell_type": "code",
   "execution_count": 2,
   "metadata": {
    "colab": {},
    "colab_type": "code",
    "id": "yrst3HNRhogj"
   },
   "outputs": [],
   "source": [
    "from __future__ import absolute_import\n",
    "from __future__ import division\n",
    "from __future__ import print_function\n",
    "\n",
    "import time\n",
    "import itertools\n",
    "\n",
    "import numpy.random as npr\n",
    "\n",
    "import jax.numpy as np\n",
    "from jax.config import config\n",
    "from jax import jit, grad, random\n",
    "from jax.experimental import optimizers\n",
    "from jax.experimental import stax\n",
    "from jax.experimental.stax import Dense, Relu, LogSoftmax, BatchNorm\n",
    "import matplotlib.pyplot as plt\n",
    "import tensorflow_datasets as tfds\n",
    "\n",
    "\n",
    "# used for tensorflow datasets\n",
    "import tensorflow as tf\n",
    "tf.enable_eager_execution()"
   ]
  },
  {
   "cell_type": "markdown",
   "metadata": {
    "colab_type": "text",
    "id": "vOttGbp0rYcG"
   },
   "source": [
    "## MNIST Setup"
   ]
  },
  {
   "cell_type": "code",
   "execution_count": 14,
   "metadata": {
    "colab": {},
    "colab_type": "code",
    "id": "SNSlBehwFwgf"
   },
   "outputs": [],
   "source": [
    "rng = random.PRNGKey(0)\n",
    "\n",
    "step_size = 0.001\n",
    "num_epochs = 3\n",
    "batch_size = 128\n",
    "momentum_mass = 0.9\n",
    "\n",
    "NUM_CLASSES = 10"
   ]
  },
  {
   "cell_type": "code",
   "execution_count": 15,
   "metadata": {},
   "outputs": [
    {
     "name": "stdout",
     "output_type": "stream",
     "text": [
      "(60000, 784) (60000, 10) (10000, 784) (10000, 10)\n"
     ]
    },
    {
     "data": {
      "text/plain": [
       "Text(0.5, 1.0, '[0. 0. 0. 0. 0. 0. 0. 1. 0. 0.]')"
      ]
     },
     "execution_count": 15,
     "metadata": {},
     "output_type": "execute_result"
    },
    {
     "data": {
      "image/png": "[encoded data removed]",
      "text/plain": [
       "<Figure size 432x288 with 1 Axes>"
      ]
     },
     "metadata": {
      "needs_background": "light"
     },
     "output_type": "display_data"
    }
   ],
   "source": [
    "#load mnist\n",
    "train_ds = tfds.load(\"mnist\", split=tfds.Split.TRAIN, batch_size=-1)\n",
    "numpy_ds = tfds.as_numpy(train_ds)\n",
    "numpy_images, numpy_labels = numpy_ds[\"image\"], numpy_ds[\"label\"]\n",
    "numpy_images.shape, numpy_labels.shape\n",
    "train_images = numpy_images[:,:,:,0].reshape(-1, 28*28).astype(np.float32)/255.0\n",
    "train_labels = np.eye(NUM_CLASSES)[numpy_labels]\n",
    "\n",
    "\n",
    "test_ds = tfds.load(\"mnist\", split=tfds.Split.TEST, batch_size=-1)\n",
    "numpy_ds = tfds.as_numpy(test_ds)\n",
    "numpy_images, numpy_labels = numpy_ds[\"image\"], numpy_ds[\"label\"]\n",
    "numpy_images.shape, numpy_labels.shape\n",
    "test_images = numpy_images[:,:,:,0].reshape(-1, 28*28).astype(np.float32)/255.0\n",
    "test_labels = np.eye(NUM_CLASSES)[numpy_labels]\n",
    "print(train_images.shape, train_labels.shape, test_images.shape, test_labels.shape)\n",
    "\n",
    "plt.imshow(train_images[0].reshape(28,28))\n",
    "plt.title(str(train_labels[0]))"
   ]
  },
  {
   "cell_type": "code",
   "execution_count": 16,
   "metadata": {
    "colab": {},
    "colab_type": "code",
    "id": "RnlF3YtH1CD8"
   },
   "outputs": [],
   "source": [
    "num_train = train_images.shape[0]\n",
    "num_complete_batches, leftover = divmod(num_train, batch_size)\n",
    "num_batches = num_complete_batches + bool(leftover)"
   ]
  },
  {
   "cell_type": "code",
   "execution_count": 17,
   "metadata": {
    "colab": {},
    "colab_type": "code",
    "id": "QDXhDnsykJD1"
   },
   "outputs": [],
   "source": [
    "def data_stream():\n",
    "  rng = npr.RandomState(0)\n",
    "  while True:\n",
    "    perm = rng.permutation(num_train)\n",
    "    for i in range(num_batches):\n",
    "      batch_idx = perm[i * batch_size:(i + 1) * batch_size]\n",
    "      yield train_images[batch_idx], train_labels[batch_idx]\n",
    "\n",
    "batches = data_stream()"
   ]
  },
  {
   "cell_type": "code",
   "execution_count": 18,
   "metadata": {
    "colab": {},
    "colab_type": "code",
    "id": "LwUvGA_2h26N"
   },
   "outputs": [],
   "source": [
    "init_random_params, predict = stax.serial(\n",
    "    Dense(1024), Relu,\n",
    "    Dense(1024), Relu,\n",
    "    Dense(10), LogSoftmax)"
   ]
  },
  {
   "cell_type": "code",
   "execution_count": 19,
   "metadata": {
    "colab": {},
    "colab_type": "code",
    "id": "BlhMBJPZmh5x"
   },
   "outputs": [],
   "source": [
    "def loss(params, batch):\n",
    "  inputs, targets = batch\n",
    "  preds = predict(params, inputs)\n",
    "  return -np.mean(preds * targets)\n",
    "\n",
    "def accuracy(params, batch):\n",
    "  inputs, targets = batch\n",
    "  target_class = np.argmax(targets, axis=1)\n",
    "  predicted_class = np.argmax(predict(params, inputs), axis=1)\n",
    "  return np.mean(predicted_class == target_class)"
   ]
  },
  {
   "cell_type": "code",
   "execution_count": 20,
   "metadata": {
    "colab": {},
    "colab_type": "code",
    "id": "elYHN38BO5MW"
   },
   "outputs": [],
   "source": [
    "import jax.tree_util as tu"
   ]
  },
  {
   "cell_type": "code",
   "execution_count": 21,
   "metadata": {
    "colab": {},
    "colab_type": "code",
    "id": "MkE51eLLkLC6"
   },
   "outputs": [],
   "source": [
    "opt_init, opt_update, get_params = optimizers.momentum(step_size, mass=momentum_mass)\n",
    "\n",
    "@jit\n",
    "def update(i, opt_state, batch):\n",
    "  params = get_params(opt_state)\n",
    "  return opt_update(i, grad(loss)(params, batch), opt_state)\n",
    "\n",
    "_, init_params = init_random_params(rng, (-1, 28 * 28))\n",
    "\n",
    "# scale params to make spectrum more interesting\n",
    "init_params = tu.tree_map(lambda x: x*10, init_params)\n",
    "\n",
    "opt_state = opt_init(init_params)\n",
    "itercount = itertools.count()"
   ]
  },
  {
   "cell_type": "markdown",
   "metadata": {
    "colab_type": "text",
    "id": "60dWOB42rdxJ"
   },
   "source": [
    "## Train MNIST Regularly"
   ]
  },
  {
   "cell_type": "code",
   "execution_count": 22,
   "metadata": {
    "colab": {
     "height": 204
    },
    "colab_type": "code",
    "executionInfo": {
     "elapsed": 4529,
     "status": "ok",
     "timestamp": 1561660800686,
     "user": {
      "displayName": "Justin Gilmer",
      "photoUrl": "https://lh3.googleusercontent.com/a-/AAuE7mDKsg-9PS1BhD3zt9xvOe32iYS3cUBmzXfeLumfRA=s64",
      "userId": "00982924767833789774"
     },
     "user_tz": 420
    },
    "id": "QIGT1RiCkNa4",
    "outputId": "bb5320ce-88c4-4462-bd76-a91a6698bedb"
   },
   "outputs": [
    {
     "name": "stdout",
     "output_type": "stream",
     "text": [
      "\n",
      "Starting training...\n",
      "Epoch 0 in 5.11 sec\n",
      "Training set accuracy 0.6511833071708679\n",
      "Test set accuracy 0.6538000106811523\n",
      "Epoch 1 in 1.08 sec\n",
      "Training set accuracy 0.7442499995231628\n",
      "Test set accuracy 0.7440000176429749\n",
      "Epoch 2 in 1.13 sec\n",
      "Training set accuracy 0.7870166897773743\n",
      "Test set accuracy 0.7904000282287598\n"
     ]
    }
   ],
   "source": [
    "print(\"\\nStarting training...\")\n",
    "for epoch in range(num_epochs):\n",
    "  start_time = time.time()\n",
    "  for _ in range(num_batches):\n",
    "    opt_state = update(next(itercount), opt_state, next(batches))\n",
    "  epoch_time = time.time() - start_time\n",
    "\n",
    "  params = get_params(opt_state)\n",
    "  train_acc = accuracy(params, (train_images, train_labels))\n",
    "  test_acc = accuracy(params, (test_images, test_labels))\n",
    "  print(\"Epoch {} in {:0.2f} sec\".format(epoch, epoch_time))\n",
    "  print(\"Training set accuracy {}\".format(train_acc))\n",
    "  print(\"Test set accuracy {}\".format(test_acc))"
   ]
  },
  {
   "cell_type": "markdown",
   "metadata": {
    "colab_type": "text",
    "id": "BdHizjf0rgte"
   },
   "source": [
    "## MNIST Hessian Spectrum"
   ]
  },
  {
   "cell_type": "code",
   "execution_count": 23,
   "metadata": {
    "colab": {},
    "colab_type": "code",
    "id": "pWgVwq2rnKFW"
   },
   "outputs": [],
   "source": [
    "import matplotlib.pyplot as plt\n",
    "\n",
    "import density as density_lib\n",
    "import lanczos as lanczos\n",
    "import hessian_computation as hessian_computation"
   ]
  },
  {
   "cell_type": "code",
   "execution_count": 24,
   "metadata": {
    "colab": {},
    "colab_type": "code",
    "id": "5qTx-DNke3UI"
   },
   "outputs": [],
   "source": [
    "# make a generator that yields 1/10th and epoch\n",
    "batches_list = [next(batches) for i in range(num_batches // 10)]\n",
    "def batches_fn():\n",
    "  for b in batches_list:\n",
    "    yield b"
   ]
  },
  {
   "cell_type": "code",
   "execution_count": 25,
   "metadata": {
    "colab": {},
    "colab_type": "code",
    "id": "csjrqlwwsA2B"
   },
   "outputs": [],
   "source": [
    "# Hessian-vector product function + Lanczos \n",
    "order = 90\n",
    "hvp, unravel, num_params = hessian_computation.get_hvp_fn(loss, params, batches_fn)\n",
    "hvp_cl = lambda v: hvp(params, v) / len(batches_list) # Match the API required by lanczos_alg"
   ]
  },
  {
   "cell_type": "code",
   "execution_count": 26,
   "metadata": {
    "colab": {
     "height": 68
    },
    "colab_type": "code",
    "executionInfo": {
     "elapsed": 961,
     "status": "ok",
     "timestamp": 1561660806803,
     "user": {
      "displayName": "Justin Gilmer",
      "photoUrl": "https://lh3.googleusercontent.com/a-/AAuE7mDKsg-9PS1BhD3zt9xvOe32iYS3cUBmzXfeLumfRA=s64",
      "userId": "00982924767833789774"
     },
     "user_tz": 420
    },
    "id": "G8QX0AwmsmT9",
    "outputId": "9140c585-e02f-43bb-b9ec-43d179907ccc"
   },
   "outputs": [
    {
     "name": "stdout",
     "output_type": "stream",
     "text": [
      "num_params: 1863690\n",
      "hvp compile time: 1.7144689999999514\n",
      "hvp compute time: 1.2833929999999896\n"
     ]
    }
   ],
   "source": [
    "print(\"num_params: {}\".format(num_params))\n",
    "start = time.clock()\n",
    "hvp_cl(np.ones(num_params)) # first call of a jitted function compiles it\n",
    "end = time.clock()\n",
    "print(\"hvp compile time: {}\".format(end-start))\n",
    "start = time.clock()\n",
    "hvp_cl(2*np.ones(num_params)) # second+ call will be much faster\n",
    "end = time.clock()\n",
    "print(\"hvp compute time: {}\".format(end-start))"
   ]
  },
  {
   "cell_type": "code",
   "execution_count": 27,
   "metadata": {
    "colab": {
     "height": 34
    },
    "colab_type": "code",
    "executionInfo": {
     "elapsed": 14611,
     "status": "ok",
     "timestamp": 1561660821570,
     "user": {
      "displayName": "Justin Gilmer",
      "photoUrl": "https://lh3.googleusercontent.com/a-/AAuE7mDKsg-9PS1BhD3zt9xvOe32iYS3cUBmzXfeLumfRA=s64",
      "userId": "00982924767833789774"
     },
     "user_tz": 420
    },
    "id": "nfqkWxe3sq60",
    "outputId": "14522d92-57a0-4c68-8199-6422a868b6a0"
   },
   "outputs": [
    {
     "name": "stdout",
     "output_type": "stream",
     "text": [
      "Lanczos time: 556.052651\n"
     ]
    }
   ],
   "source": [
    "rng, split = random.split(rng)\n",
    "start = time.clock()\n",
    "tridiag, vecs = lanczos.lanczos_alg(hvp_cl, num_params, order, split)\n",
    "end = time.clock()\n",
    "print(\"Lanczos time: {}\".format(end-start)) # this should be ~order * hvp compute time\n",
    "density, grids = density_lib.tridiag_to_density([tridiag], grid_len=10000, sigma_squared=1e-5)"
   ]
  },
  {
   "cell_type": "code",
   "execution_count": 30,
   "metadata": {
    "colab": {},
    "colab_type": "code",
    "id": "gjphaunohYTq"
   },
   "outputs": [],
   "source": [
    "def plot(grids, density, label=None):\n",
    "  plt.semilogy(grids, density, label=label)\n",
    "  plt.ylim(1e-10, 1e2)\n",
    "  plt.ylabel(\"Density\")\n",
    "  plt.xlabel(\"Eigenvalue\")\n",
    "  plt.legend()"
   ]
  },
  {
   "cell_type": "code",
   "execution_count": 31,
   "metadata": {
    "colab": {
     "height": 336
    },
    "colab_type": "code",
    "executionInfo": {
     "elapsed": 1179,
     "status": "ok",
     "timestamp": 1561660823277,
     "user": {
      "displayName": "Justin Gilmer",
      "photoUrl": "https://lh3.googleusercontent.com/a-/AAuE7mDKsg-9PS1BhD3zt9xvOe32iYS3cUBmzXfeLumfRA=s64",
      "userId": "00982924767833789774"
     },
     "user_tz": 420
    },
    "id": "Ddn33_Qbmaxh",
    "outputId": "3018fb6b-25e9-4d96-d078-ebf49312748b"
   },
   "outputs": [
    {
     "name": "stderr",
     "output_type": "stream",
     "text": [
      "W0627 14:10:54.484232 140390849402688 legend.py:1282] No handles with labels found to put in legend.\n"
     ]
    },
    {
     "data": {
      "image/png": "[encoded data removed]",
      "text/plain": [
       "<Figure size 432x288 with 1 Axes>"
      ]
     },
     "metadata": {
      "needs_background": "light"
     },
     "output_type": "display_data"
    }
   ],
   "source": [
    "plot(grids, density) # 30 epochs no BN"
   ]
  },
  {
   "cell_type": "code",
   "execution_count": null,
   "metadata": {},
   "outputs": [],
   "source": []
  }
 ],
 "metadata": {
  "colab": {
   "last_runtime": {
    "build_target": "//learning/deepmind/dm_python:dm_notebook",
    "kind": "private"
   },
   "name": "MNIST JAX",
   "provenance": [
    {
     "file_id": "1RFiDXSKHsrfGcIBukPLjzBxExpkT4ar0",
     "timestamp": 1561661588951
    },
    {
     "file_id": "1WZ-SWH9pH_AVyIwA6SWskzrwD6224sGs",
     "timestamp": 1561653779834
    }
   ],
   "version": "0.3.2"
  },
  "kernelspec": {
   "display_name": "Python 3",
   "language": "python",
   "name": "python3"
  },
  "language_info": {
   "codemirror_mode": {
    "name": "ipython",
    "version": 3
   },
   "file_extension": ".py",
   "mimetype": "text/x-python",
   "name": "python",
   "nbconvert_exporter": "python",
   "pygments_lexer": "ipython3",
   "version": "3.6.5"
  }
 },
 "nbformat": 4,
 "nbformat_minor": 1
}
